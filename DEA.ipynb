{
 "cells": [
  {
   "cell_type": "code",
   "execution_count": 1,
   "id": "4bb4575c",
   "metadata": {},
   "outputs": [],
   "source": [
    "import pandas as pd\n",
    "from itertools import product\n",
    "\n",
    "import gurobipy as gp\n",
    "from gurobipy import GRB"
   ]
  },
  {
   "cell_type": "code",
   "execution_count": 2,
   "id": "ca52b655",
   "metadata": {},
   "outputs": [
    {
     "data": {
      "text/html": [
       "<div>\n",
       "<style scoped>\n",
       "    .dataframe tbody tr th:only-of-type {\n",
       "        vertical-align: middle;\n",
       "    }\n",
       "\n",
       "    .dataframe tbody tr th {\n",
       "        vertical-align: top;\n",
       "    }\n",
       "\n",
       "    .dataframe thead th {\n",
       "        text-align: right;\n",
       "    }\n",
       "</style>\n",
       "<table border=\"1\" class=\"dataframe\">\n",
       "  <thead>\n",
       "    <tr style=\"text-align: right;\">\n",
       "      <th></th>\n",
       "      <th>dmus</th>\n",
       "      <th>input1</th>\n",
       "      <th>input2</th>\n",
       "      <th>output</th>\n",
       "    </tr>\n",
       "  </thead>\n",
       "  <tbody>\n",
       "    <tr>\n",
       "      <th>0</th>\n",
       "      <td>A</td>\n",
       "      <td>4</td>\n",
       "      <td>3</td>\n",
       "      <td>2</td>\n",
       "    </tr>\n",
       "    <tr>\n",
       "      <th>1</th>\n",
       "      <td>B</td>\n",
       "      <td>1</td>\n",
       "      <td>6</td>\n",
       "      <td>5</td>\n",
       "    </tr>\n",
       "    <tr>\n",
       "      <th>2</th>\n",
       "      <td>C</td>\n",
       "      <td>2</td>\n",
       "      <td>3</td>\n",
       "      <td>4</td>\n",
       "    </tr>\n",
       "    <tr>\n",
       "      <th>3</th>\n",
       "      <td>D</td>\n",
       "      <td>1</td>\n",
       "      <td>2</td>\n",
       "      <td>1</td>\n",
       "    </tr>\n",
       "    <tr>\n",
       "      <th>4</th>\n",
       "      <td>E</td>\n",
       "      <td>10</td>\n",
       "      <td>5</td>\n",
       "      <td>8</td>\n",
       "    </tr>\n",
       "  </tbody>\n",
       "</table>\n",
       "</div>"
      ],
      "text/plain": [
       "  dmus  input1  input2  output\n",
       "0    A       4       3       2\n",
       "1    B       1       6       5\n",
       "2    C       2       3       4\n",
       "3    D       1       2       1\n",
       "4    E      10       5       8"
      ]
     },
     "execution_count": 2,
     "metadata": {},
     "output_type": "execute_result"
    }
   ],
   "source": [
    "df_dea = pd.read_csv('dea.csv')\n",
    "df_dea"
   ]
  },
  {
   "cell_type": "code",
   "execution_count": 3,
   "id": "7911b880",
   "metadata": {},
   "outputs": [
    {
     "name": "stdout",
     "output_type": "stream",
     "text": [
      "Restricted license - for non-production use only - expires 2023-10-25\n",
      "\n",
      "The efficiency of target DMU A is 0.455\n",
      "__________________________________________________________________\n",
      "The weights for the inputs are:\n",
      "For input1: 0.045 \n",
      "For input2: 0.273 \n",
      "__________________________________________________________________\n",
      "The weights for the outputs are\n",
      "For output is: 0.227 \n",
      "__________________________________________________________________\n",
      "\n",
      "\n"
     ]
    }
   ],
   "source": [
    "inattr = ['input1','input2']\n",
    "outattr = ['output']\n",
    "\n",
    "inputs = df_dea[['dmus'] + inattr].set_index('dmus').T.to_dict()\n",
    "outputs = df_dea[['dmus'] + outattr].set_index('dmus').T.to_dict()\n",
    "dmus = df_dea['dmus'].to_list()\n",
    "\n",
    "### Create LP model\n",
    "model = gp.Model('DEA')\n",
    "\n",
    "# Decision variables\n",
    "wout = model.addVars(outattr, name=\"outputWeight\")\n",
    "win = model.addVars(inattr, name=\"inputWeight\")\n",
    "\n",
    "# Constraints\n",
    "ratios = model.addConstrs( ( gp.quicksum(outputs[h][r]*wout[r] for r in outattr ) \n",
    "                            - gp.quicksum(inputs[h][i]*win[i] for i in inattr ) \n",
    "                            <= 0 for h in dmus ), name='ratios' )\n",
    "\n",
    "\n",
    "target = 'A'\n",
    "normalization = model.addConstr((gp.quicksum(inputs[target][i]*win[i] for i in inattr ) == 1 ),\n",
    "                                name='normalization')\n",
    "    \n",
    "# Objective function\n",
    "model.setObjective(gp.quicksum(outputs[target][r]*wout[r] for r in outattr ), GRB.MAXIMIZE)\n",
    "    \n",
    "model.params.OutputFlag = 0\n",
    "model.optimize()\n",
    "    \n",
    "# Print results\n",
    "print(f\"\\nThe efficiency of target DMU {target} is {round(model.objVal,3)}\") \n",
    "\n",
    "print(\"__________________________________________________________________\")\n",
    "print(f\"The weights for the inputs are:\")\n",
    "for i in inattr:\n",
    "    print(f\"For {i}: {round(win[i].x,3)} \") \n",
    "\n",
    "print(\"__________________________________________________________________\")\n",
    "print(f\"The weights for the outputs are\")\n",
    "for r in outattr:\n",
    "    print(f\"For {r} is: {round(wout[r].x,3)} \") \n",
    "print(\"__________________________________________________________________\\n\\n\")  "
   ]
  },
  {
   "cell_type": "code",
   "execution_count": 11,
   "id": "76f6f86d",
   "metadata": {
    "scrolled": true
   },
   "outputs": [
    {
     "data": {
      "image/png": "[encoded data removed]",
      "text/plain": [
       "<Figure size 432x288 with 1 Axes>"
      ]
     },
     "metadata": {
      "needs_background": "light"
     },
     "output_type": "display_data"
    }
   ],
   "source": [
    "from sympy import *\n",
    "\n",
    "x, y = symbols('x y')\n",
    "expr = (y<=(21/20)*x+(1/20)) & (y<=(3/8)*x+(1/8)) & (y<=(5/4)*x+(1/4)) & (y<=-(5/16)*x+(5/16)) & (y>0) \n",
    "p1 = plot_implicit(expr, (x, 0, 2), (y, -1, 1), show=False)\n",
    "p2 = plot(wout['output'].x, line_color='crimson', show=False)\n",
    "p1.append(p2[0])\n",
    "p1.show()"
   ]
  },
  {
   "cell_type": "code",
   "execution_count": null,
   "id": "8dbbe809",
   "metadata": {},
   "outputs": [],
   "source": []
  },
  {
   "cell_type": "code",
   "execution_count": null,
   "id": "781222b6",
   "metadata": {},
   "outputs": [],
   "source": []
  }
 ],
 "metadata": {
  "kernelspec": {
   "display_name": "Python 3 (ipykernel)",
   "language": "python",
   "name": "python3"
  },
  "language_info": {
   "codemirror_mode": {
    "name": "ipython",
    "version": 3
   },
   "file_extension": ".py",
   "mimetype": "text/x-python",
   "name": "python",
   "nbconvert_exporter": "python",
   "pygments_lexer": "ipython3",
   "version": "3.8.2"
  }
 },
 "nbformat": 4,
 "nbformat_minor": 5
}
